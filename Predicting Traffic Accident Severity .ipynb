{
 "cells": [
  {
   "cell_type": "markdown",
   "metadata": {},
   "source": [
    "# Capston Project - Predicting Road Traffic Accident Severity"
   ]
  },
  {
   "cell_type": "markdown",
   "metadata": {},
   "source": [
    "### Applied Data Science Capstone by IBM/Coursera"
   ]
  },
  {
   "cell_type": "markdown",
   "metadata": {},
   "source": [
    "---"
   ]
  },
  {
   "cell_type": "markdown",
   "metadata": {},
   "source": [
    "## Table of Contents"
   ]
  },
  {
   "cell_type": "markdown",
   "metadata": {},
   "source": [
    "1. Introduction\n",
    "2. Data\n",
    "5. References"
   ]
  },
  {
   "cell_type": "markdown",
   "metadata": {},
   "source": [
    "# 1. Introduction"
   ]
  },
  {
   "cell_type": "markdown",
   "metadata": {},
   "source": [
    "As the world progresses to a more and more advanced state the number of cars on the road are also increasing. Whether you are looking at first world countries or third world countries the number of vehicles year on year are increasing as households are able to afford more. With this in mind a very serious topic comes to light, according to an article by the WHO \"Road traffic injuries are estimated to be the eighth leading cause of death globally for all age groups and the leading cause of death for children and young people 5–29 years of age. More people now die in road traffic crashes than from HIV/AIDS\".<sup>1</sup>\n",
    "\n",
    "The purpose of this project is to bring to light the factors that highly affect the chances of getting into a car accident and to encourage safe driving in the volatile conditions to reduce the risk factors. The data we have will help us better understand the severity of accidents in various conditions as well as the weather conditions that contribute to the accidents.\n",
    "\n",
    "Government bodies would be very interested in the accurate predictions of the severity of an accident, to help them reduce the response times of medical staff as well as properly allocate the resources where needed to boost awareness of risk factors i.e. increase in signage, road repairs etc"
   ]
  },
  {
   "cell_type": "markdown",
   "metadata": {},
   "source": [
    "# 2. Data"
   ]
  },
  {
   "cell_type": "markdown",
   "metadata": {},
   "source": [
    "The original data for this project is uploaded to the following kaggle, it is provided by the IBM coursera and an untouched version of the data will be uploaded to the github account.\n",
    "In another notebook I have begun preparing the data that I will be using so that we have the most relevant features for the prediction of // traffic accident severity.\n",
    "\n",
    "The features of the data set are as follows:\n",
    "\n",
    "I will keep the features: \"ObjectID\", \"Location\", \"Severity Code\", \"Severity Description\", \"Collision Type\", \"Person Count\", \"Pedestrian Count\" \"Vehicle Count\", \"Injuries\", \"Serious Injuries\", \"Fatalities\", \"Inattention Indicator\",// \"Under Influence\", \"Weather\", \"Road Condition\", \"Light Conditions\", \"Pedestrian Right of Way Given\", \"Speeding\", \"State Collision Code\", \"State Collision Code Description\", \"Segment Lane Key\", \"Cross Walk Key\", \"Hit Parked Car\".\n",
    "\n",
    "There are two columns which record the date (\"Incident Date\", \"Incident Date & Time\") with these two columns I may try to remove one and seperate the time from the date so that we can group accidents that have happened at certain times of the day as well as identify the biggest risk factors that have caused accidents at those times in particular.\n"
   ]
  },
  {
   "cell_type": "markdown",
   "metadata": {},
   "source": [
    "# 5. References"
   ]
  },
  {
   "cell_type": "markdown",
   "metadata": {},
   "source": [
    "1. World Health Organization (WHO). Global Status Report on Road Safety 2018. December 2018. [cited 2019 April 8]. Available from URL: https://www.who.int/violence_injury_prevention/road_safety_status/2018/en/external icon"
   ]
  },
  {
   "cell_type": "code",
   "execution_count": null,
   "metadata": {},
   "outputs": [],
   "source": []
  }
 ],
 "metadata": {
  "kernelspec": {
   "display_name": "Python",
   "language": "python",
   "name": "conda-env-python-py"
  },
  "language_info": {
   "codemirror_mode": {
    "name": "ipython",
    "version": 3
   },
   "file_extension": ".py",
   "mimetype": "text/x-python",
   "name": "python",
   "nbconvert_exporter": "python",
   "pygments_lexer": "ipython3",
   "version": "3.6.11"
  }
 },
 "nbformat": 4,
 "nbformat_minor": 4
}
